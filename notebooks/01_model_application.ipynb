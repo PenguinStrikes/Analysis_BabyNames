{
 "cells": [
  {
   "cell_type": "code",
   "execution_count": 1,
   "metadata": {
    "collapsed": false
   },
   "outputs": [
    {
     "name": "stderr",
     "output_type": "stream",
     "text": [
      "Using TensorFlow backend.\n"
     ]
    }
   ],
   "source": [
    "%load_ext autoreload\n",
    "%autoreload 2\n",
    "\n",
    "import pandas as pd\n",
    "import numpy as np\n",
    "import re, os, sys\n",
    "\n",
    "PROJ_ROOT = os.path.abspath(os.path.join(os.pardir))\n",
    "sys.path.append(os.path.join(PROJ_ROOT, 'src'))\n",
    "import word_utils"
   ]
  },
  {
   "cell_type": "code",
   "execution_count": 8,
   "metadata": {
    "collapsed": false
   },
   "outputs": [
    {
     "name": "stdout",
     "output_type": "stream",
     "text": [
      "Size of word dictionary: 117414\n",
      "Count of names: 6453\n",
      "Un-matched names: 740\n"
     ]
    }
   ],
   "source": [
    "df = word_utils.load_dictionary()\n",
    "df = df.rename(columns={'word':'Surname'})\n",
    "\n",
    "df_names = pd.read_csv('../data/raw/names/lastnames.csv')\n",
    "df_names['Surname'] = df_names['Surname'].str.replace(\"'\",\"\")\n",
    "df_names['Surname'] = df_names['Surname'].str.replace(\".\",\"\")\n",
    "df_names = pd.merge(df_names, df, on='Surname', how='left')\n",
    "\n",
    "print('Count of names:', len(df_names))\n",
    "not_matched = df_names[df_names['phonetics'] != df_names['phonetics']]\n",
    "print('Un-matched names:', len(not_matched))"
   ]
  },
  {
   "cell_type": "code",
   "execution_count": 9,
   "metadata": {
    "collapsed": false
   },
   "outputs": [
    {
     "name": "stdout",
     "output_type": "stream",
     "text": [
      "Loaded model from disk\n"
     ]
    },
    {
     "name": "stderr",
     "output_type": "stream",
     "text": [
      "/Users/chrisdoughty/Desktop/Git/Analysis_BabyNames/src/word_utils.py:140: SettingWithCopyWarning: \n",
      "A value is trying to be set on a copy of a slice from a DataFrame.\n",
      "Try using .loc[row_indexer,col_indexer] = value instead\n",
      "\n",
      "See the caveats in the documentation: http://pandas.pydata.org/pandas-docs/stable/indexing.html#indexing-view-versus-copy\n",
      "  input_df['phonetic_predict'] = master\n"
     ]
    },
    {
     "data": {
      "text/html": [
       "<div>\n",
       "<table border=\"1\" class=\"dataframe\">\n",
       "  <thead>\n",
       "    <tr style=\"text-align: right;\">\n",
       "      <th></th>\n",
       "      <th>Surname</th>\n",
       "      <th>phonetic_predict</th>\n",
       "    </tr>\n",
       "  </thead>\n",
       "  <tbody>\n",
       "    <tr>\n",
       "      <th>458</th>\n",
       "      <td>KAUR</td>\n",
       "      <td>K AO1 R</td>\n",
       "    </tr>\n",
       "    <tr>\n",
       "      <th>498</th>\n",
       "      <td>MCINALLY</td>\n",
       "      <td>M AH0 K IH1 N AH0 IY0</td>\n",
       "    </tr>\n",
       "    <tr>\n",
       "      <th>514</th>\n",
       "      <td>CAIRNEY</td>\n",
       "      <td>K EH1 R N IY0</td>\n",
       "    </tr>\n",
       "    <tr>\n",
       "      <th>596</th>\n",
       "      <td>NEWLANDS</td>\n",
       "      <td>N UW1 L AH0 N D Z</td>\n",
       "    </tr>\n",
       "    <tr>\n",
       "      <th>607</th>\n",
       "      <td>MCLAUCHLAN</td>\n",
       "      <td>M AH0 K L AE1 K K AH0 N</td>\n",
       "    </tr>\n",
       "  </tbody>\n",
       "</table>\n",
       "</div>"
      ],
      "text/plain": [
       "        Surname         phonetic_predict\n",
       "458        KAUR                  K AO1 R\n",
       "498    MCINALLY    M AH0 K IH1 N AH0 IY0\n",
       "514     CAIRNEY            K EH1 R N IY0\n",
       "596    NEWLANDS        N UW1 L AH0 N D Z\n",
       "607  MCLAUCHLAN  M AH0 K L AE1 K K AH0 N"
      ]
     },
     "execution_count": 9,
     "metadata": {},
     "output_type": "execute_result"
    }
   ],
   "source": [
    "not_matched = word_utils.load_and_predict(not_matched,'Surname')\n",
    "not_matched = not_matched.drop('phonetics', axis=1)\n",
    "not_matched.head()"
   ]
  },
  {
   "cell_type": "code",
   "execution_count": 10,
   "metadata": {
    "collapsed": true
   },
   "outputs": [],
   "source": [
    "df_names = pd.merge(df_names, not_matched, on='Surname', how='left')\n",
    "\n",
    "# First name phonetic source using columns\n",
    "df_names['phonetics_source'] = np.where(df_names['phonetic_predict'] != df_names['phonetic_predict'],\n",
    "                                         'dict', 'pred')\n",
    "\n",
    "# Standardise the phonetic column\n",
    "df_names['phonetics'] = np.where(df_names['phonetics_source'] == 'dict', \n",
    "                                 df_names['phonetics'], df_names['phonetic_predict'])\n",
    "\n",
    "# Remove the unused phonetic prediction column from our DataFrame\n",
    "df_names = df_names.drop('phonetic_predict', axis=1)\n",
    "\n",
    "# Create a field without spaces\n",
    "df_names['phonetics_space'] = df_names['phonetics'].str.replace(' ','')\n",
    "\n",
    "# Add the last sound of the string\n",
    "df_names['final_sound'] = df_names['phonetics'].str.split(' ').str[-1]\n",
    "\n",
    "df_names.to_csv('../data/interim/lastnames.csv', index=False)"
   ]
  },
  {
   "cell_type": "code",
   "execution_count": 11,
   "metadata": {
    "collapsed": false
   },
   "outputs": [
    {
     "name": "stdout",
     "output_type": "stream",
     "text": [
      "Original DataFrame: 250078\n",
      "DeDuped DataFrame: 31697\n",
      "Size of word dictionary: 117414\n",
      "Count of names: 31697\n",
      "Un-matched names: 25036\n"
     ]
    }
   ],
   "source": [
    "df_first = pd.read_csv('../data/raw/names/firstnames.csv')\n",
    "\n",
    "df_first['Count'] = df_first['Count'].str.replace(',','')\n",
    "df_first['Count'] = df_first['Count'].astype(int)\n",
    "df_first = df_first[df_first['Count'] >= 3]\n",
    "df_first['Name'] = df_first['Name'].str.upper()\n",
    "df_first['Name'] = df_first['Name'].str.replace(' ','')\n",
    "df_first['Name'] = df_first['Name'].str.replace(\"'\",\"\")\n",
    "df_first['Name'] = df_first['Name'].str.replace(\".\",\"\")\n",
    "df_first = df_first[['Name']]\n",
    "print('Original DataFrame:', len(df_first))\n",
    "\n",
    "df_first.drop_duplicates(inplace=True)\n",
    "print('DeDuped DataFrame:', len(df_first))\n",
    "\n",
    "df = word_utils.load_dictionary()\n",
    "df = df.rename(columns={'word':'Name'})\n",
    "df_first = pd.merge(df_first, df, on='Name', how='left')\n",
    "\n",
    "print('Count of names:', len(df_first))\n",
    "not_matched_first = df_first[df_first['phonetics'] != df_first['phonetics']]\n",
    "print('Un-matched names:', len(not_matched_first))"
   ]
  },
  {
   "cell_type": "code",
   "execution_count": 12,
   "metadata": {
    "collapsed": false
   },
   "outputs": [
    {
     "name": "stdout",
     "output_type": "stream",
     "text": [
      "Loaded model from disk\n"
     ]
    },
    {
     "name": "stderr",
     "output_type": "stream",
     "text": [
      "/Users/chrisdoughty/Desktop/Git/Analysis_BabyNames/src/word_utils.py:140: SettingWithCopyWarning: \n",
      "A value is trying to be set on a copy of a slice from a DataFrame.\n",
      "Try using .loc[row_indexer,col_indexer] = value instead\n",
      "\n",
      "See the caveats in the documentation: http://pandas.pydata.org/pandas-docs/stable/indexing.html#indexing-view-versus-copy\n",
      "  input_df['phonetic_predict'] = master\n"
     ]
    },
    {
     "data": {
      "text/html": [
       "<div>\n",
       "<table border=\"1\" class=\"dataframe\">\n",
       "  <thead>\n",
       "    <tr style=\"text-align: right;\">\n",
       "      <th></th>\n",
       "      <th>Name</th>\n",
       "      <th>phonetics</th>\n",
       "      <th>phonetic_predict</th>\n",
       "    </tr>\n",
       "  </thead>\n",
       "  <tbody>\n",
       "    <tr>\n",
       "      <th>15</th>\n",
       "      <td>EVIE</td>\n",
       "      <td>NaN</td>\n",
       "      <td>EH1 V IY0</td>\n",
       "    </tr>\n",
       "    <tr>\n",
       "      <th>20</th>\n",
       "      <td>EILIDH</td>\n",
       "      <td>NaN</td>\n",
       "      <td>AY1 L IH0 D</td>\n",
       "    </tr>\n",
       "    <tr>\n",
       "      <th>53</th>\n",
       "      <td>LEXI</td>\n",
       "      <td>NaN</td>\n",
       "      <td>L EH1 K S IY0</td>\n",
       "    </tr>\n",
       "    <tr>\n",
       "      <th>61</th>\n",
       "      <td>AYLA</td>\n",
       "      <td>NaN</td>\n",
       "      <td>EY1 L AH0</td>\n",
       "    </tr>\n",
       "    <tr>\n",
       "      <th>82</th>\n",
       "      <td>MYA</td>\n",
       "      <td>NaN</td>\n",
       "      <td>M IY1 AH0</td>\n",
       "    </tr>\n",
       "  </tbody>\n",
       "</table>\n",
       "</div>"
      ],
      "text/plain": [
       "      Name phonetics phonetic_predict\n",
       "15    EVIE       NaN        EH1 V IY0\n",
       "20  EILIDH       NaN      AY1 L IH0 D\n",
       "53    LEXI       NaN    L EH1 K S IY0\n",
       "61    AYLA       NaN        EY1 L AH0\n",
       "82     MYA       NaN        M IY1 AH0"
      ]
     },
     "execution_count": 12,
     "metadata": {},
     "output_type": "execute_result"
    }
   ],
   "source": [
    "not_matched_first = word_utils.load_and_predict(not_matched_first,'Name')\n",
    "not_matched_first.head()"
   ]
  },
  {
   "cell_type": "code",
   "execution_count": 13,
   "metadata": {
    "collapsed": false
   },
   "outputs": [],
   "source": [
    "not_matched_first = not_matched_first.drop('phonetics', axis=1)\n",
    "df_first = pd.merge(df_first, not_matched_first, on='Name', how='left')\n",
    "\n",
    "# First name phonetic source using columns\n",
    "df_first['phonetics_source'] = np.where(df_first['phonetic_predict'] != df_first['phonetic_predict'],\n",
    "                                         'dict', 'pred')\n",
    "\n",
    "# Standardise the phonetic column\n",
    "df_first['phonetics'] = np.where(df_first['phonetics_source'] == 'dict', \n",
    "                                 df_first['phonetics'], df_first['phonetic_predict'])\n",
    "\n",
    "# Remove the unused phonetic prediction column from our DataFrame\n",
    "df_first = df_first.drop('phonetic_predict', axis=1)\n",
    "\n",
    "# Create a field without spaces\n",
    "df_first['phonetics_space'] = df_first['phonetics'].str.replace(' ','')\n",
    "\n",
    "# Add the last sound of the string\n",
    "df_first['final_sound'] = df_first['phonetics'].str.split(' ').str[-1]\n",
    "\n",
    "df_first['single'] = df_first['Name'].str[0]\n",
    "df_first['double'] = df_first['Name'].str[0:2]\n",
    "\n",
    "df_first.to_csv('../data/interim/frstnames.csv', index=False)"
   ]
  },
  {
   "cell_type": "code",
   "execution_count": null,
   "metadata": {
    "collapsed": true
   },
   "outputs": [],
   "source": []
  }
 ],
 "metadata": {
  "kernelspec": {
   "display_name": "Python 3",
   "language": "python",
   "name": "python3"
  },
  "language_info": {
   "codemirror_mode": {
    "name": "ipython",
    "version": 3
   },
   "file_extension": ".py",
   "mimetype": "text/x-python",
   "name": "python",
   "nbconvert_exporter": "python",
   "pygments_lexer": "ipython3",
   "version": "3.6.0"
  }
 },
 "nbformat": 4,
 "nbformat_minor": 2
}
